{
 "cells": [
  {
   "cell_type": "markdown",
   "id": "2ec0f292",
   "metadata": {},
   "source": [
    "# TODO\n",
    "\n",
    "- Get all genres from selenium data &#9745;\n",
    "- Get distribution of language reviews &#9745;\n",
    "- Pandas dataframe creation\n",
    "- Get all book comments\n",
    "- Clean everything\n",
    "- Automate the process\n",
    "- Investigate about executing multiples requests concurrently"
   ]
  },
  {
   "cell_type": "code",
   "execution_count": 1,
   "id": "53516468-b602-40bf-9189-e76b28e3eb2d",
   "metadata": {},
   "outputs": [
    {
     "name": "stdout",
     "output_type": "stream",
     "text": [
      "Note: you may need to restart the kernel to use updated packages.\n",
      "Note: you may need to restart the kernel to use updated packages.\n",
      "Note: you may need to restart the kernel to use updated packages.\n"
     ]
    }
   ],
   "source": [
    "%pip install bs4 -q\n",
    "%pip install selenium -q\n",
    "%pip install pandas -q"
   ]
  },
  {
   "cell_type": "code",
   "execution_count": 2,
   "id": "579e2f77-4c8f-4e01-89e5-fa79ad0420bf",
   "metadata": {},
   "outputs": [],
   "source": [
    "from bs4 import BeautifulSoup\n",
    "import requests\n",
    "import re\n",
    "import json\n",
    "import pandas as pd"
   ]
  },
  {
   "cell_type": "code",
   "execution_count": 6,
   "id": "c5d2b280-e217-4535-bc63-c91b11ab7fca",
   "metadata": {},
   "outputs": [
    {
     "data": {
      "text/plain": [
       "bs4.BeautifulSoup"
      ]
     },
     "execution_count": 6,
     "metadata": {},
     "output_type": "execute_result"
    }
   ],
   "source": [
    "# Goodreads request\n",
    "book_gr = f'https://www.goodreads.com/book/show/58473038'\n",
    "soup_gr = BeautifulSoup(requests.get(book_gr).text, features='html.parser')\n",
    "type(soup_gr)"
   ]
  },
  {
   "cell_type": "code",
   "execution_count": 5,
   "id": "d6c20116-3452-4ddd-b7ac-0e25f4ef9ca9",
   "metadata": {},
   "outputs": [
    {
     "data": {
      "text/plain": [
       "{'title': 'Teenage Mutant Ninja Turtles: The Last Ronin',\n",
       " 'authors': ['Kevin Eastman', 'Peter Laird', 'Tom Waltz', 'Kevin Eastman'],\n",
       " 'rating_value': '4.41',\n",
       " 'desc': 'Who is the Last Ronin? In a future, battle-ravaged New York City, a lone surviving Turtle embarks on a seemingly hopeless mission seeking justice for the family he lost. From legendary TMNT co-creators Kevin Eastman and Peter Laird, get ready for the final story of the Teenage Mutant Ninja Turtles three decades in the making!What terrible events destroyed his family and left New York a crumbling, post-apocalyptic nightmare? All will be revealed in this climactic Turtle tale that sees longtime friends becoming enemies and new allies emerging in the most unexpected places. Can the surviving Turtle triumph?Eastman and Laird are joined by writer Tom Waltz, who penned the first 100 issues of IDW’s ongoing TMNT series, and artists Esau & Isaac Escorza (Heavy Metal) and Ben Bishop (The Far Side of the Moon) with an Introduction by filmmaker Robert Rodriguez!Collects the complete five-issue miniseries in a new graphic novel, an adventure as fulfilling for longtime Turtles fans as it is accessible for readers just discovering the heroes in a half-shell.',\n",
       " 'pub_info': 'First published July 5, 2022',\n",
       " 'cover': 'https://images-na.ssl-images-amazon.com/images/S/compressed.photo.goodreads.com/books/1702503684i/58473038.jpg'}"
      ]
     },
     "execution_count": 5,
     "metadata": {},
     "output_type": "execute_result"
    }
   ],
   "source": [
    "# Goodreads basic scraping\n",
    "title = soup_gr.find(class_='Text Text__title1').text\n",
    "authors = [cla.text for cla in soup_gr.find_all(class_='ContributorLink__name')]\n",
    "rating = soup_gr.find(class_=\"RatingStatistics__rating\").text\n",
    "desc = soup_gr.find(class_=\"DetailsLayoutRightParagraph__widthConstrained\").text\n",
    "pub_info = soup_gr.find('p', {'data-testid': 'publicationInfo'}).text\n",
    "cover = soup_gr.find(class_='ResponsiveImage').get('src')\n",
    "\n",
    "book_data = {\n",
    "    'title':title, \n",
    "    'authors':authors,\n",
    "    'rating_value':rating,\n",
    "    'desc':desc,\n",
    "    'pub_info':pub_info,\n",
    "    'cover':cover,\n",
    "}\n",
    "\n",
    "book_data"
   ]
  },
  {
   "cell_type": "code",
   "execution_count": 14,
   "id": "11ab632f",
   "metadata": {},
   "outputs": [
    {
     "data": {
      "text/plain": [
       "{'title': 'Teenage Mutant Ninja Turtles: The Last Ronin',\n",
       " 'authors': ['Kevin Eastman', 'Peter Laird', 'Tom Waltz', 'Kevin Eastman'],\n",
       " 'rating_value': '4.41',\n",
       " 'desc': 'Who is the Last Ronin? In a future, battle-ravaged New York City, a lone surviving Turtle embarks on a seemingly hopeless mission seeking justice for the family he lost. From legendary TMNT co-creators Kevin Eastman and Peter Laird, get ready for the final story of the Teenage Mutant Ninja Turtles three decades in the making!What terrible events destroyed his family and left New York a crumbling, post-apocalyptic nightmare? All will be revealed in this climactic Turtle tale that sees longtime friends becoming enemies and new allies emerging in the most unexpected places. Can the surviving Turtle triumph?Eastman and Laird are joined by writer Tom Waltz, who penned the first 100 issues of IDW’s ongoing TMNT series, and artists Esau & Isaac Escorza (Heavy Metal) and Ben Bishop (The Far Side of the Moon) with an Introduction by filmmaker Robert Rodriguez!Collects the complete five-issue miniseries in a new graphic novel, an adventure as fulfilling for longtime Turtles fans as it is accessible for readers just discovering the heroes in a half-shell.',\n",
       " 'pub_info': 'First published July 5, 2022',\n",
       " 'cover': 'https://images-na.ssl-images-amazon.com/images/S/compressed.photo.goodreads.com/books/1702503684i/58473038.jpg',\n",
       " 'id': '58473038',\n",
       " 'format': 'Hardcover',\n",
       " 'num_pages': 224,\n",
       " 'publication_timestamp': 1657004400000,\n",
       " 'publication_date': '2022-07-05',\n",
       " 'publisher': 'IDW Publishing',\n",
       " 'isbn': '1684058414',\n",
       " 'isbn13': '9781684058419',\n",
       " 'language': 'English',\n",
       " 'review_count_by_lang': {'en': 783,\n",
       "  'cs': 4,\n",
       "  'es': 22,\n",
       "  'it': 4,\n",
       "  'sr': 1,\n",
       "  'ca': 1,\n",
       "  'uk': 2,\n",
       "  'tr': 2,\n",
       "  'sk': 1,\n",
       "  'da': 4,\n",
       "  'ru': 1,\n",
       "  'sv': 2,\n",
       "  'de': 1,\n",
       "  'pt': 2,\n",
       "  'no': 1,\n",
       "  'bg': 2},\n",
       " 'genres': ['Comics',\n",
       "  'Graphic Novels',\n",
       "  'Fiction',\n",
       "  'Fantasy',\n",
       "  'Graphic Novels Comics',\n",
       "  'Science Fiction',\n",
       "  'Comic Book',\n",
       "  'Action',\n",
       "  'Superheroes',\n",
       "  'Comics Manga'],\n",
       " 'rating_count': '8611',\n",
       " 'review_count': '862'}"
      ]
     },
     "execution_count": 14,
     "metadata": {},
     "output_type": "execute_result"
    }
   ],
   "source": [
    "from selenium import webdriver\n",
    "from datetime import datetime\n",
    "\n",
    "browser = webdriver.Firefox()\n",
    "\n",
    "url = 'https://www.goodreads.com/book/show/58473038'\n",
    "browser.get(url)\n",
    "html_source = browser.page_source\n",
    "browser.quit()\n",
    "\n",
    "data_str = re.findall('\"details\":.*,\"work\"', html_source)[0].replace('\"details\":', '').replace(',\"work\"', '')\n",
    "\n",
    "data_dict = json.loads(data_str)\n",
    "\n",
    "book_data['id'] = url.split('/')[-1]\n",
    "book_data['format'] = data_dict['format']\n",
    "book_data['num_pages'] = data_dict['numPages']\n",
    "book_data['publication_timestamp'] = data_dict['publicationTime']\n",
    "book_data['publication_date'] = datetime.fromtimestamp(int(data_dict['publicationTime'])/1000).strftime(\"%Y-%m-%d\")\n",
    "book_data['publisher'] = data_dict['publisher']\n",
    "book_data['isbn'] = data_dict['isbn']\n",
    "book_data['isbn13'] = data_dict['isbn13']\n",
    "book_data['language'] = data_dict['language']['name']\n",
    "\n",
    "rating_count = re.findall('\"ratingCount\":\\d+', html_source)[0].replace('\"ratingCount\":', '')\n",
    "review_count = re.findall('\"reviewCount\":\\d+', html_source)[0].replace('\"reviewCount\":', '')\n",
    "\n",
    "# Reviews count by language  \n",
    "count_lang = re.findall('\"count\":\\d+,\"isoLanguageCode\":\"[a-z]+\"', html_source)\n",
    "dict_count_lang = [json.loads('{' + lang + '}') for lang in count_lang]\n",
    "book_data['review_count_by_lang'] = {item['isoLanguageCode']:item['count'] for item in dict_count_lang}\n",
    "\n",
    "# Genres \n",
    "genres = re.findall('\"bookGenres\":.*}}],\"details\":', html_source)[0].replace(',\"details\":', '')\n",
    "dict_genres = [json.loads('{' + genres + '}')]\n",
    "book_data['genres'] = [genre['genre']['name'] for genre in dict_genres[0]['bookGenres']]\n",
    "\n",
    "book_data['rating_count'] = rating_count\n",
    "book_data['review_count'] = review_count\n",
    "\n",
    "book_data"
   ]
  },
  {
   "cell_type": "code",
   "execution_count": 13,
   "id": "e998472c",
   "metadata": {},
   "outputs": [
    {
     "data": {
      "text/plain": [
       "{'bookGenres': [{'__typename': 'BookGenre',\n",
       "   'genre': {'__typename': 'Genre',\n",
       "    'name': 'Comics',\n",
       "    'webUrl': 'https://www.goodreads.com/genres/comics'}},\n",
       "  {'__typename': 'BookGenre',\n",
       "   'genre': {'__typename': 'Genre',\n",
       "    'name': 'Graphic Novels',\n",
       "    'webUrl': 'https://www.goodreads.com/genres/graphic-novels'}},\n",
       "  {'__typename': 'BookGenre',\n",
       "   'genre': {'__typename': 'Genre',\n",
       "    'name': 'Fiction',\n",
       "    'webUrl': 'https://www.goodreads.com/genres/fiction'}},\n",
       "  {'__typename': 'BookGenre',\n",
       "   'genre': {'__typename': 'Genre',\n",
       "    'name': 'Fantasy',\n",
       "    'webUrl': 'https://www.goodreads.com/genres/fantasy'}},\n",
       "  {'__typename': 'BookGenre',\n",
       "   'genre': {'__typename': 'Genre',\n",
       "    'name': 'Graphic Novels Comics',\n",
       "    'webUrl': 'https://www.goodreads.com/genres/graphic-novels-comics'}},\n",
       "  {'__typename': 'BookGenre',\n",
       "   'genre': {'__typename': 'Genre',\n",
       "    'name': 'Science Fiction',\n",
       "    'webUrl': 'https://www.goodreads.com/genres/science-fiction'}},\n",
       "  {'__typename': 'BookGenre',\n",
       "   'genre': {'__typename': 'Genre',\n",
       "    'name': 'Comic Book',\n",
       "    'webUrl': 'https://www.goodreads.com/genres/comic-book'}},\n",
       "  {'__typename': 'BookGenre',\n",
       "   'genre': {'__typename': 'Genre',\n",
       "    'name': 'Action',\n",
       "    'webUrl': 'https://www.goodreads.com/genres/action'}},\n",
       "  {'__typename': 'BookGenre',\n",
       "   'genre': {'__typename': 'Genre',\n",
       "    'name': 'Superheroes',\n",
       "    'webUrl': 'https://www.goodreads.com/genres/superheroes'}},\n",
       "  {'__typename': 'BookGenre',\n",
       "   'genre': {'__typename': 'Genre',\n",
       "    'name': 'Comics Manga',\n",
       "    'webUrl': 'https://www.goodreads.com/genres/comics-manga'}}]}"
      ]
     },
     "execution_count": 13,
     "metadata": {},
     "output_type": "execute_result"
    }
   ],
   "source": [
    "dict_genres"
   ]
  },
  {
   "cell_type": "code",
   "execution_count": 97,
   "id": "88edabc5",
   "metadata": {},
   "outputs": [
    {
     "data": {
      "text/html": [
       "<div>\n",
       "<style scoped>\n",
       "    .dataframe tbody tr th:only-of-type {\n",
       "        vertical-align: middle;\n",
       "    }\n",
       "\n",
       "    .dataframe tbody tr th {\n",
       "        vertical-align: top;\n",
       "    }\n",
       "\n",
       "    .dataframe thead th {\n",
       "        text-align: right;\n",
       "    }\n",
       "</style>\n",
       "<table border=\"1\" class=\"dataframe\">\n",
       "  <thead>\n",
       "    <tr style=\"text-align: right;\">\n",
       "      <th></th>\n",
       "      <th>title</th>\n",
       "      <th>authors</th>\n",
       "      <th>rating_value</th>\n",
       "      <th>desc</th>\n",
       "      <th>pub_info</th>\n",
       "      <th>cover</th>\n",
       "      <th>id</th>\n",
       "      <th>format</th>\n",
       "      <th>num_pages</th>\n",
       "      <th>publication_timestamp</th>\n",
       "      <th>publication_date</th>\n",
       "      <th>publisher</th>\n",
       "      <th>isbn</th>\n",
       "      <th>isbn13</th>\n",
       "      <th>language</th>\n",
       "      <th>review_count_by_lang</th>\n",
       "      <th>genres</th>\n",
       "      <th>rating_count</th>\n",
       "      <th>review_count</th>\n",
       "    </tr>\n",
       "  </thead>\n",
       "  <tbody>\n",
       "    <tr>\n",
       "      <th>0</th>\n",
       "      <td>Teenage Mutant Ninja Turtles: The Last Ronin</td>\n",
       "      <td>[Kevin Eastman, Peter Laird, Tom Waltz, Kevin ...</td>\n",
       "      <td>4.41</td>\n",
       "      <td>Who is the Last Ronin? In a future, battle-rav...</td>\n",
       "      <td>First published July 5, 2022</td>\n",
       "      <td>https://images-na.ssl-images-amazon.com/images...</td>\n",
       "      <td>58473038</td>\n",
       "      <td>Hardcover</td>\n",
       "      <td>224</td>\n",
       "      <td>1657004400000</td>\n",
       "      <td>2022-07-05</td>\n",
       "      <td>IDW Publishing</td>\n",
       "      <td>1684058414</td>\n",
       "      <td>9781684058419</td>\n",
       "      <td>English</td>\n",
       "      <td>{'en': 782, 'cs': 4, 'es': 22, 'it': 4, 'sr': ...</td>\n",
       "      <td>[Comics, Graphic Novels, Fiction, Fantasy, Gra...</td>\n",
       "      <td>8602</td>\n",
       "      <td>861</td>\n",
       "    </tr>\n",
       "  </tbody>\n",
       "</table>\n",
       "</div>"
      ],
      "text/plain": [
       "                                          title  \\\n",
       "0  Teenage Mutant Ninja Turtles: The Last Ronin   \n",
       "\n",
       "                                             authors rating_value  \\\n",
       "0  [Kevin Eastman, Peter Laird, Tom Waltz, Kevin ...         4.41   \n",
       "\n",
       "                                                desc  \\\n",
       "0  Who is the Last Ronin? In a future, battle-rav...   \n",
       "\n",
       "                       pub_info  \\\n",
       "0  First published July 5, 2022   \n",
       "\n",
       "                                               cover        id     format  \\\n",
       "0  https://images-na.ssl-images-amazon.com/images...  58473038  Hardcover   \n",
       "\n",
       "   num_pages  publication_timestamp publication_date       publisher  \\\n",
       "0        224          1657004400000       2022-07-05  IDW Publishing   \n",
       "\n",
       "         isbn         isbn13 language  \\\n",
       "0  1684058414  9781684058419  English   \n",
       "\n",
       "                                review_count_by_lang  \\\n",
       "0  {'en': 782, 'cs': 4, 'es': 22, 'it': 4, 'sr': ...   \n",
       "\n",
       "                                              genres rating_count review_count  \n",
       "0  [Comics, Graphic Novels, Fiction, Fantasy, Gra...         8602          861  "
      ]
     },
     "execution_count": 97,
     "metadata": {},
     "output_type": "execute_result"
    }
   ],
   "source": [
    "# Pandas dataframe generation\n",
    "\n",
    "import pandas as pd\n",
    "\n",
    "df = pd.DataFrame([book_data])\n",
    "df"
   ]
  },
  {
   "cell_type": "code",
   "execution_count": null,
   "id": "c4e70d4d",
   "metadata": {},
   "outputs": [],
   "source": []
  }
 ],
 "metadata": {
  "kernelspec": {
   "display_name": "Python 3 (ipykernel)",
   "language": "python",
   "name": "python3"
  },
  "language_info": {
   "codemirror_mode": {
    "name": "ipython",
    "version": 3
   },
   "file_extension": ".py",
   "mimetype": "text/x-python",
   "name": "python",
   "nbconvert_exporter": "python",
   "pygments_lexer": "ipython3",
   "version": "3.11.8"
  }
 },
 "nbformat": 4,
 "nbformat_minor": 5
}
