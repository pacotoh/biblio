{
 "cells": [
  {
   "cell_type": "code",
   "execution_count": 9,
   "id": "53516468-b602-40bf-9189-e76b28e3eb2d",
   "metadata": {},
   "outputs": [
    {
     "name": "stdout",
     "output_type": "stream",
     "text": [
      "Note: you may need to restart the kernel to use updated packages.\n"
     ]
    }
   ],
   "source": [
    "%pip install pandas -q"
   ]
  },
  {
   "cell_type": "code",
   "execution_count": 10,
   "id": "5cdd2a57",
   "metadata": {},
   "outputs": [],
   "source": [
    "import re\n",
    "import pandas as pd\n",
    "import os"
   ]
  },
  {
   "cell_type": "code",
   "execution_count": null,
   "id": "11ab632f",
   "metadata": {},
   "outputs": [],
   "source": [
    "# Header and Footer removal testing\n",
    "sample_file = '../../data/gt/content/20240330/pg500.txt'\n",
    "header = '\\*\\*\\* START OF THE PROJECT GUTENBERG EBOOK .+ \\*\\*\\*'\n",
    "footer = '\\*\\*\\* END OF THE PROJECT GUTENBERG EBOOK .+ \\*\\*\\*'\n",
    "\n",
    "with open(sample_file, 'r') as file:\n",
    "    text = file.read()  \n",
    "\n",
    "content = re.split(footer, re.split(header, text)[1])[0]\n",
    "print(content)"
   ]
  },
  {
   "cell_type": "code",
   "execution_count": 16,
   "id": "a401c0f8",
   "metadata": {},
   "outputs": [],
   "source": [
    "# Header and footer removal function \n",
    "def remove_header_footer(dt: str):\n",
    "    folder = f'../../data/gt/content/{dt}/'\n",
    "    header = '\\*\\*\\* START OF .+ \\*\\*\\*'\n",
    "    footer = '\\*\\*\\* END OF .+ \\*\\*\\*'\n",
    "    \n",
    "    for filename in os.listdir(folder):\n",
    "        if os.path.isfile(os.path.join(folder, filename)):\n",
    "            with open(os.path.join(folder, filename), 'r') as file:\n",
    "                content = file.read()\n",
    "                if '*** START OF' in content:\n",
    "                    content = re.split(footer, re.split(header, content)[1])[0]\n",
    "            with open(os.path.join(folder, filename), 'w', encoding='UTF-8') as file:\n",
    "                file.write(content)"
   ]
  },
  {
   "cell_type": "code",
   "execution_count": 17,
   "id": "c339d9a1",
   "metadata": {},
   "outputs": [],
   "source": [
    "remove_header_footer(20240330)"
   ]
  }
 ],
 "metadata": {
  "kernelspec": {
   "display_name": "Python 3 (ipykernel)",
   "language": "python",
   "name": "python3"
  },
  "language_info": {
   "codemirror_mode": {
    "name": "ipython",
    "version": 3
   },
   "file_extension": ".py",
   "mimetype": "text/x-python",
   "name": "python",
   "nbconvert_exporter": "python",
   "pygments_lexer": "ipython3",
   "version": "3.11.8"
  }
 },
 "nbformat": 4,
 "nbformat_minor": 5
}
