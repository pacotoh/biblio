{
 "cells": [
  {
   "cell_type": "code",
   "execution_count": 1,
   "metadata": {},
   "outputs": [],
   "source": [
    "!pip install -q transformers langchain bitsandbytes"
   ]
  },
  {
   "cell_type": "code",
   "execution_count": 2,
   "metadata": {},
   "outputs": [
    {
     "name": "stdout",
     "output_type": "stream",
     "text": [
      "Defaulting to user installation because normal site-packages is not writeable\n",
      "Collecting sentence_transformers\n",
      "  Downloading sentence_transformers-2.6.1-py3-none-any.whl.metadata (11 kB)\n",
      "Requirement already satisfied: transformers<5.0.0,>=4.32.0 in /var/data/python/lib/python3.11/site-packages (from sentence_transformers) (4.39.0.dev0)\n",
      "Requirement already satisfied: tqdm in /var/data/python/lib/python3.11/site-packages (from sentence_transformers) (4.66.2)\n",
      "Requirement already satisfied: torch>=1.11.0 in /var/data/python/lib/python3.11/site-packages (from sentence_transformers) (2.2.2+cu121)\n",
      "Requirement already satisfied: numpy in /var/data/python/lib/python3.11/site-packages (from sentence_transformers) (1.26.3)\n",
      "Collecting scikit-learn (from sentence_transformers)\n",
      "  Using cached scikit_learn-1.4.1.post1-cp311-cp311-manylinux_2_17_x86_64.manylinux2014_x86_64.whl.metadata (11 kB)\n",
      "Requirement already satisfied: scipy in /var/data/python/lib/python3.11/site-packages (from sentence_transformers) (1.12.0)\n",
      "Requirement already satisfied: huggingface-hub>=0.15.1 in /var/data/python/lib/python3.11/site-packages (from sentence_transformers) (0.21.4)\n",
      "Requirement already satisfied: Pillow in /var/data/python/lib/python3.11/site-packages (from sentence_transformers) (10.2.0)\n",
      "Requirement already satisfied: filelock in /var/data/python/lib/python3.11/site-packages (from huggingface-hub>=0.15.1->sentence_transformers) (3.9.0)\n",
      "Requirement already satisfied: fsspec>=2023.5.0 in /var/data/python/lib/python3.11/site-packages (from huggingface-hub>=0.15.1->sentence_transformers) (2024.3.1)\n",
      "Requirement already satisfied: requests in /var/data/python/lib/python3.11/site-packages (from huggingface-hub>=0.15.1->sentence_transformers) (2.31.0)\n",
      "Requirement already satisfied: pyyaml>=5.1 in /var/data/python/lib/python3.11/site-packages (from huggingface-hub>=0.15.1->sentence_transformers) (6.0.1)\n",
      "Requirement already satisfied: typing-extensions>=3.7.4.3 in /var/data/python/lib/python3.11/site-packages (from huggingface-hub>=0.15.1->sentence_transformers) (4.11.0)\n",
      "Requirement already satisfied: packaging>=20.9 in /var/data/python/lib/python3.11/site-packages (from huggingface-hub>=0.15.1->sentence_transformers) (23.2)\n",
      "Requirement already satisfied: sympy in /var/data/python/lib/python3.11/site-packages (from torch>=1.11.0->sentence_transformers) (1.12)\n",
      "Requirement already satisfied: networkx in /var/data/python/lib/python3.11/site-packages (from torch>=1.11.0->sentence_transformers) (3.2.1)\n",
      "Requirement already satisfied: jinja2 in /var/data/python/lib/python3.11/site-packages (from torch>=1.11.0->sentence_transformers) (3.1.2)\n",
      "Requirement already satisfied: nvidia-cuda-nvrtc-cu12==12.1.105 in /var/data/python/lib/python3.11/site-packages (from torch>=1.11.0->sentence_transformers) (12.1.105)\n",
      "Requirement already satisfied: nvidia-cuda-runtime-cu12==12.1.105 in /var/data/python/lib/python3.11/site-packages (from torch>=1.11.0->sentence_transformers) (12.1.105)\n",
      "Requirement already satisfied: nvidia-cuda-cupti-cu12==12.1.105 in /var/data/python/lib/python3.11/site-packages (from torch>=1.11.0->sentence_transformers) (12.1.105)\n",
      "Requirement already satisfied: nvidia-cudnn-cu12==8.9.2.26 in /var/data/python/lib/python3.11/site-packages (from torch>=1.11.0->sentence_transformers) (8.9.2.26)\n",
      "Requirement already satisfied: nvidia-cublas-cu12==12.1.3.1 in /var/data/python/lib/python3.11/site-packages (from torch>=1.11.0->sentence_transformers) (12.1.3.1)\n",
      "Requirement already satisfied: nvidia-cufft-cu12==11.0.2.54 in /var/data/python/lib/python3.11/site-packages (from torch>=1.11.0->sentence_transformers) (11.0.2.54)\n",
      "Requirement already satisfied: nvidia-curand-cu12==10.3.2.106 in /var/data/python/lib/python3.11/site-packages (from torch>=1.11.0->sentence_transformers) (10.3.2.106)\n",
      "Requirement already satisfied: nvidia-cusolver-cu12==11.4.5.107 in /var/data/python/lib/python3.11/site-packages (from torch>=1.11.0->sentence_transformers) (11.4.5.107)\n",
      "Requirement already satisfied: nvidia-cusparse-cu12==12.1.0.106 in /var/data/python/lib/python3.11/site-packages (from torch>=1.11.0->sentence_transformers) (12.1.0.106)\n",
      "Requirement already satisfied: nvidia-nccl-cu12==2.19.3 in /var/data/python/lib/python3.11/site-packages (from torch>=1.11.0->sentence_transformers) (2.19.3)\n",
      "Requirement already satisfied: nvidia-nvtx-cu12==12.1.105 in /var/data/python/lib/python3.11/site-packages (from torch>=1.11.0->sentence_transformers) (12.1.105)\n",
      "Requirement already satisfied: triton==2.2.0 in /var/data/python/lib/python3.11/site-packages (from torch>=1.11.0->sentence_transformers) (2.2.0)\n",
      "Requirement already satisfied: nvidia-nvjitlink-cu12 in /var/data/python/lib/python3.11/site-packages (from nvidia-cusolver-cu12==11.4.5.107->torch>=1.11.0->sentence_transformers) (12.4.99)\n",
      "Requirement already satisfied: regex!=2019.12.17 in /var/data/python/lib/python3.11/site-packages (from transformers<5.0.0,>=4.32.0->sentence_transformers) (2023.12.25)\n",
      "Requirement already satisfied: tokenizers<0.19,>=0.14 in /var/data/python/lib/python3.11/site-packages (from transformers<5.0.0,>=4.32.0->sentence_transformers) (0.15.2)\n",
      "Requirement already satisfied: safetensors>=0.4.1 in /var/data/python/lib/python3.11/site-packages (from transformers<5.0.0,>=4.32.0->sentence_transformers) (0.4.2)\n",
      "Requirement already satisfied: joblib>=1.2.0 in /var/data/python/lib/python3.11/site-packages (from scikit-learn->sentence_transformers) (1.3.2)\n",
      "Collecting threadpoolctl>=2.0.0 (from scikit-learn->sentence_transformers)\n",
      "  Downloading threadpoolctl-3.4.0-py3-none-any.whl.metadata (13 kB)\n",
      "Requirement already satisfied: MarkupSafe>=2.0 in /var/data/python/lib/python3.11/site-packages (from jinja2->torch>=1.11.0->sentence_transformers) (2.1.3)\n",
      "Requirement already satisfied: charset-normalizer<4,>=2 in /var/data/python/lib/python3.11/site-packages (from requests->huggingface-hub>=0.15.1->sentence_transformers) (3.3.2)\n",
      "Requirement already satisfied: idna<4,>=2.5 in /var/data/python/lib/python3.11/site-packages (from requests->huggingface-hub>=0.15.1->sentence_transformers) (3.6)\n",
      "Requirement already satisfied: urllib3<3,>=1.21.1 in /var/data/python/lib/python3.11/site-packages (from requests->huggingface-hub>=0.15.1->sentence_transformers) (2.0.7)\n",
      "Requirement already satisfied: certifi>=2017.4.17 in /var/data/python/lib/python3.11/site-packages (from requests->huggingface-hub>=0.15.1->sentence_transformers) (2024.2.2)\n",
      "Requirement already satisfied: mpmath>=0.19 in /var/data/python/lib/python3.11/site-packages (from sympy->torch>=1.11.0->sentence_transformers) (1.3.0)\n",
      "Downloading sentence_transformers-2.6.1-py3-none-any.whl (163 kB)\n",
      "\u001b[2K   \u001b[90m━━━━━━━━━━━━━━━━━━━━━━━━━━━━━━━━━━━━━━━━\u001b[0m \u001b[32m163.3/163.3 kB\u001b[0m \u001b[31m5.2 MB/s\u001b[0m eta \u001b[36m0:00:00\u001b[0m\n",
      "\u001b[?25hUsing cached scikit_learn-1.4.1.post1-cp311-cp311-manylinux_2_17_x86_64.manylinux2014_x86_64.whl (12.1 MB)\n",
      "Downloading threadpoolctl-3.4.0-py3-none-any.whl (17 kB)\n",
      "Installing collected packages: threadpoolctl, scikit-learn, sentence_transformers\n",
      "Successfully installed scikit-learn-1.4.1.post1 sentence_transformers-2.6.1 threadpoolctl-3.4.0\n"
     ]
    }
   ],
   "source": [
    "!pip install sentence_transformers"
   ]
  },
  {
   "cell_type": "code",
   "execution_count": 3,
   "metadata": {},
   "outputs": [
    {
     "name": "stdout",
     "output_type": "stream",
     "text": [
      "Defaulting to user installation because normal site-packages is not writeable\n",
      "Requirement already satisfied: llama_index in /var/data/python/lib/python3.11/site-packages (0.10.27)\n",
      "Requirement already satisfied: llama-index-agent-openai<0.3.0,>=0.1.4 in /var/data/python/lib/python3.11/site-packages (from llama_index) (0.2.2)\n",
      "Requirement already satisfied: llama-index-cli<0.2.0,>=0.1.2 in /var/data/python/lib/python3.11/site-packages (from llama_index) (0.1.11)\n",
      "Requirement already satisfied: llama-index-core<0.11.0,>=0.10.27 in /var/data/python/lib/python3.11/site-packages (from llama_index) (0.10.27)\n",
      "Requirement already satisfied: llama-index-embeddings-openai<0.2.0,>=0.1.5 in /var/data/python/lib/python3.11/site-packages (from llama_index) (0.1.7)\n",
      "Requirement already satisfied: llama-index-indices-managed-llama-cloud<0.2.0,>=0.1.2 in /var/data/python/lib/python3.11/site-packages (from llama_index) (0.1.5)\n",
      "Requirement already satisfied: llama-index-legacy<0.10.0,>=0.9.48 in /var/data/python/lib/python3.11/site-packages (from llama_index) (0.9.48)\n",
      "Requirement already satisfied: llama-index-llms-openai<0.2.0,>=0.1.13 in /var/data/python/lib/python3.11/site-packages (from llama_index) (0.1.14)\n",
      "Requirement already satisfied: llama-index-multi-modal-llms-openai<0.2.0,>=0.1.3 in /var/data/python/lib/python3.11/site-packages (from llama_index) (0.1.4)\n",
      "Requirement already satisfied: llama-index-program-openai<0.2.0,>=0.1.3 in /var/data/python/lib/python3.11/site-packages (from llama_index) (0.1.5)\n",
      "Requirement already satisfied: llama-index-question-gen-openai<0.2.0,>=0.1.2 in /var/data/python/lib/python3.11/site-packages (from llama_index) (0.1.3)\n",
      "Requirement already satisfied: llama-index-readers-file<0.2.0,>=0.1.4 in /var/data/python/lib/python3.11/site-packages (from llama_index) (0.1.13)\n",
      "Requirement already satisfied: llama-index-readers-llama-parse<0.2.0,>=0.1.2 in /var/data/python/lib/python3.11/site-packages (from llama_index) (0.1.4)\n",
      "Requirement already satisfied: openai>=1.14.0 in /var/data/python/lib/python3.11/site-packages (from llama-index-agent-openai<0.3.0,>=0.1.4->llama_index) (1.16.2)\n",
      "Requirement already satisfied: PyYAML>=6.0.1 in /var/data/python/lib/python3.11/site-packages (from llama-index-core<0.11.0,>=0.10.27->llama_index) (6.0.1)\n",
      "Requirement already satisfied: SQLAlchemy>=1.4.49 in /var/data/python/lib/python3.11/site-packages (from SQLAlchemy[asyncio]>=1.4.49->llama-index-core<0.11.0,>=0.10.27->llama_index) (2.0.29)\n",
      "Requirement already satisfied: aiohttp<4.0.0,>=3.8.6 in /var/data/python/lib/python3.11/site-packages (from llama-index-core<0.11.0,>=0.10.27->llama_index) (3.9.3)\n",
      "Requirement already satisfied: dataclasses-json in /var/data/python/lib/python3.11/site-packages (from llama-index-core<0.11.0,>=0.10.27->llama_index) (0.6.4)\n",
      "Requirement already satisfied: deprecated>=1.2.9.3 in /var/data/python/lib/python3.11/site-packages (from llama-index-core<0.11.0,>=0.10.27->llama_index) (1.2.14)\n",
      "Requirement already satisfied: dirtyjson<2.0.0,>=1.0.8 in /var/data/python/lib/python3.11/site-packages (from llama-index-core<0.11.0,>=0.10.27->llama_index) (1.0.8)\n",
      "Requirement already satisfied: fsspec>=2023.5.0 in /var/data/python/lib/python3.11/site-packages (from llama-index-core<0.11.0,>=0.10.27->llama_index) (2024.3.1)\n",
      "Requirement already satisfied: httpx in /var/data/python/lib/python3.11/site-packages (from llama-index-core<0.11.0,>=0.10.27->llama_index) (0.27.0)\n",
      "Requirement already satisfied: llamaindex-py-client<0.2.0,>=0.1.16 in /var/data/python/lib/python3.11/site-packages (from llama-index-core<0.11.0,>=0.10.27->llama_index) (0.1.16)\n",
      "Requirement already satisfied: nest-asyncio<2.0.0,>=1.5.8 in /var/data/python/lib/python3.11/site-packages (from llama-index-core<0.11.0,>=0.10.27->llama_index) (1.6.0)\n",
      "Requirement already satisfied: networkx>=3.0 in /var/data/python/lib/python3.11/site-packages (from llama-index-core<0.11.0,>=0.10.27->llama_index) (3.2.1)\n",
      "Requirement already satisfied: nltk<4.0.0,>=3.8.1 in /var/data/python/lib/python3.11/site-packages (from llama-index-core<0.11.0,>=0.10.27->llama_index) (3.8.1)\n",
      "Requirement already satisfied: numpy in /var/data/python/lib/python3.11/site-packages (from llama-index-core<0.11.0,>=0.10.27->llama_index) (1.26.3)\n",
      "Requirement already satisfied: pandas in /var/data/python/lib/python3.11/site-packages (from llama-index-core<0.11.0,>=0.10.27->llama_index) (2.2.1)\n",
      "Requirement already satisfied: pillow>=9.0.0 in /var/data/python/lib/python3.11/site-packages (from llama-index-core<0.11.0,>=0.10.27->llama_index) (10.2.0)\n",
      "Requirement already satisfied: requests>=2.31.0 in /var/data/python/lib/python3.11/site-packages (from llama-index-core<0.11.0,>=0.10.27->llama_index) (2.31.0)\n",
      "Requirement already satisfied: tenacity<9.0.0,>=8.2.0 in /var/data/python/lib/python3.11/site-packages (from llama-index-core<0.11.0,>=0.10.27->llama_index) (8.2.3)\n",
      "Requirement already satisfied: tiktoken>=0.3.3 in /var/data/python/lib/python3.11/site-packages (from llama-index-core<0.11.0,>=0.10.27->llama_index) (0.6.0)\n",
      "Requirement already satisfied: tqdm<5.0.0,>=4.66.1 in /var/data/python/lib/python3.11/site-packages (from llama-index-core<0.11.0,>=0.10.27->llama_index) (4.66.2)\n",
      "Requirement already satisfied: typing-extensions>=4.5.0 in /var/data/python/lib/python3.11/site-packages (from llama-index-core<0.11.0,>=0.10.27->llama_index) (4.11.0)\n",
      "Requirement already satisfied: typing-inspect>=0.8.0 in /var/data/python/lib/python3.11/site-packages (from llama-index-core<0.11.0,>=0.10.27->llama_index) (0.9.0)\n",
      "Requirement already satisfied: wrapt in /var/data/python/lib/python3.11/site-packages (from llama-index-core<0.11.0,>=0.10.27->llama_index) (1.16.0)\n",
      "Requirement already satisfied: beautifulsoup4<5.0.0,>=4.12.3 in /var/data/python/lib/python3.11/site-packages (from llama-index-readers-file<0.2.0,>=0.1.4->llama_index) (4.12.3)\n",
      "Requirement already satisfied: pymupdf<2.0.0,>=1.23.21 in /var/data/python/lib/python3.11/site-packages (from llama-index-readers-file<0.2.0,>=0.1.4->llama_index) (1.24.1)\n",
      "Requirement already satisfied: pypdf<5.0.0,>=4.0.1 in /var/data/python/lib/python3.11/site-packages (from llama-index-readers-file<0.2.0,>=0.1.4->llama_index) (4.2.0)\n",
      "Requirement already satisfied: striprtf<0.0.27,>=0.0.26 in /var/data/python/lib/python3.11/site-packages (from llama-index-readers-file<0.2.0,>=0.1.4->llama_index) (0.0.26)\n",
      "Requirement already satisfied: llama-parse<0.5.0,>=0.4.0 in /var/data/python/lib/python3.11/site-packages (from llama-index-readers-llama-parse<0.2.0,>=0.1.2->llama_index) (0.4.0)\n",
      "Requirement already satisfied: aiosignal>=1.1.2 in /var/data/python/lib/python3.11/site-packages (from aiohttp<4.0.0,>=3.8.6->llama-index-core<0.11.0,>=0.10.27->llama_index) (1.3.1)\n",
      "Requirement already satisfied: attrs>=17.3.0 in /var/data/python/lib/python3.11/site-packages (from aiohttp<4.0.0,>=3.8.6->llama-index-core<0.11.0,>=0.10.27->llama_index) (23.2.0)\n",
      "Requirement already satisfied: frozenlist>=1.1.1 in /var/data/python/lib/python3.11/site-packages (from aiohttp<4.0.0,>=3.8.6->llama-index-core<0.11.0,>=0.10.27->llama_index) (1.4.1)\n",
      "Requirement already satisfied: multidict<7.0,>=4.5 in /var/data/python/lib/python3.11/site-packages (from aiohttp<4.0.0,>=3.8.6->llama-index-core<0.11.0,>=0.10.27->llama_index) (6.0.5)\n",
      "Requirement already satisfied: yarl<2.0,>=1.0 in /var/data/python/lib/python3.11/site-packages (from aiohttp<4.0.0,>=3.8.6->llama-index-core<0.11.0,>=0.10.27->llama_index) (1.9.4)\n",
      "Requirement already satisfied: soupsieve>1.2 in /var/data/python/lib/python3.11/site-packages (from beautifulsoup4<5.0.0,>=4.12.3->llama-index-readers-file<0.2.0,>=0.1.4->llama_index) (2.5)\n",
      "Requirement already satisfied: pydantic>=1.10 in /var/data/python/lib/python3.11/site-packages (from llamaindex-py-client<0.2.0,>=0.1.16->llama-index-core<0.11.0,>=0.10.27->llama_index) (2.6.4)\n",
      "Requirement already satisfied: anyio in /var/data/python/lib/python3.11/site-packages (from httpx->llama-index-core<0.11.0,>=0.10.27->llama_index) (4.3.0)\n",
      "Requirement already satisfied: certifi in /var/data/python/lib/python3.11/site-packages (from httpx->llama-index-core<0.11.0,>=0.10.27->llama_index) (2024.2.2)\n",
      "Requirement already satisfied: httpcore==1.* in /var/data/python/lib/python3.11/site-packages (from httpx->llama-index-core<0.11.0,>=0.10.27->llama_index) (1.0.5)\n",
      "Requirement already satisfied: idna in /var/data/python/lib/python3.11/site-packages (from httpx->llama-index-core<0.11.0,>=0.10.27->llama_index) (3.6)\n",
      "Requirement already satisfied: sniffio in /var/data/python/lib/python3.11/site-packages (from httpx->llama-index-core<0.11.0,>=0.10.27->llama_index) (1.3.1)\n",
      "Requirement already satisfied: h11<0.15,>=0.13 in /var/data/python/lib/python3.11/site-packages (from httpcore==1.*->httpx->llama-index-core<0.11.0,>=0.10.27->llama_index) (0.14.0)\n",
      "Requirement already satisfied: click in /var/data/python/lib/python3.11/site-packages (from nltk<4.0.0,>=3.8.1->llama-index-core<0.11.0,>=0.10.27->llama_index) (8.1.7)\n",
      "Requirement already satisfied: joblib in /var/data/python/lib/python3.11/site-packages (from nltk<4.0.0,>=3.8.1->llama-index-core<0.11.0,>=0.10.27->llama_index) (1.3.2)\n",
      "Requirement already satisfied: regex>=2021.8.3 in /var/data/python/lib/python3.11/site-packages (from nltk<4.0.0,>=3.8.1->llama-index-core<0.11.0,>=0.10.27->llama_index) (2023.12.25)\n",
      "Requirement already satisfied: distro<2,>=1.7.0 in /var/data/python/lib/python3.11/site-packages (from openai>=1.14.0->llama-index-agent-openai<0.3.0,>=0.1.4->llama_index) (1.9.0)\n",
      "Requirement already satisfied: PyMuPDFb==1.24.1 in /var/data/python/lib/python3.11/site-packages (from pymupdf<2.0.0,>=1.23.21->llama-index-readers-file<0.2.0,>=0.1.4->llama_index) (1.24.1)\n",
      "Requirement already satisfied: charset-normalizer<4,>=2 in /var/data/python/lib/python3.11/site-packages (from requests>=2.31.0->llama-index-core<0.11.0,>=0.10.27->llama_index) (3.3.2)\n",
      "Requirement already satisfied: urllib3<3,>=1.21.1 in /var/data/python/lib/python3.11/site-packages (from requests>=2.31.0->llama-index-core<0.11.0,>=0.10.27->llama_index) (2.0.7)\n",
      "Requirement already satisfied: greenlet!=0.4.17 in /var/data/python/lib/python3.11/site-packages (from SQLAlchemy>=1.4.49->SQLAlchemy[asyncio]>=1.4.49->llama-index-core<0.11.0,>=0.10.27->llama_index) (3.0.3)\n",
      "Requirement already satisfied: mypy-extensions>=0.3.0 in /var/data/python/lib/python3.11/site-packages (from typing-inspect>=0.8.0->llama-index-core<0.11.0,>=0.10.27->llama_index) (1.0.0)\n",
      "Requirement already satisfied: marshmallow<4.0.0,>=3.18.0 in /var/data/python/lib/python3.11/site-packages (from dataclasses-json->llama-index-core<0.11.0,>=0.10.27->llama_index) (3.21.1)\n",
      "Requirement already satisfied: python-dateutil>=2.8.2 in /var/data/python/lib/python3.11/site-packages (from pandas->llama-index-core<0.11.0,>=0.10.27->llama_index) (2.9.0.post0)\n",
      "Requirement already satisfied: pytz>=2020.1 in /var/data/python/lib/python3.11/site-packages (from pandas->llama-index-core<0.11.0,>=0.10.27->llama_index) (2024.1)\n",
      "Requirement already satisfied: tzdata>=2022.7 in /var/data/python/lib/python3.11/site-packages (from pandas->llama-index-core<0.11.0,>=0.10.27->llama_index) (2024.1)\n",
      "Requirement already satisfied: packaging>=17.0 in /var/data/python/lib/python3.11/site-packages (from marshmallow<4.0.0,>=3.18.0->dataclasses-json->llama-index-core<0.11.0,>=0.10.27->llama_index) (23.2)\n",
      "Requirement already satisfied: annotated-types>=0.4.0 in /var/data/python/lib/python3.11/site-packages (from pydantic>=1.10->llamaindex-py-client<0.2.0,>=0.1.16->llama-index-core<0.11.0,>=0.10.27->llama_index) (0.6.0)\n",
      "Requirement already satisfied: pydantic-core==2.16.3 in /var/data/python/lib/python3.11/site-packages (from pydantic>=1.10->llamaindex-py-client<0.2.0,>=0.1.16->llama-index-core<0.11.0,>=0.10.27->llama_index) (2.16.3)\n",
      "Requirement already satisfied: six>=1.5 in /usr/lib/python3.11/site-packages (from python-dateutil>=2.8.2->pandas->llama-index-core<0.11.0,>=0.10.27->llama_index) (1.16.0)\n"
     ]
    }
   ],
   "source": [
    "!pip install llama_index"
   ]
  },
  {
   "cell_type": "code",
   "execution_count": 25,
   "metadata": {},
   "outputs": [
    {
     "name": "stdout",
     "output_type": "stream",
     "text": [
      "Defaulting to user installation because normal site-packages is not writeable\n",
      "Collecting llama-index-embeddings-langchain\n",
      "  Downloading llama_index_embeddings_langchain-0.1.2-py3-none-any.whl.metadata (663 bytes)\n",
      "Requirement already satisfied: llama-index-core<0.11.0,>=0.10.1 in /var/data/python/lib/python3.11/site-packages (from llama-index-embeddings-langchain) (0.10.27)\n",
      "Requirement already satisfied: PyYAML>=6.0.1 in /var/data/python/lib/python3.11/site-packages (from llama-index-core<0.11.0,>=0.10.1->llama-index-embeddings-langchain) (6.0.1)\n",
      "Requirement already satisfied: SQLAlchemy>=1.4.49 in /var/data/python/lib/python3.11/site-packages (from SQLAlchemy[asyncio]>=1.4.49->llama-index-core<0.11.0,>=0.10.1->llama-index-embeddings-langchain) (2.0.29)\n",
      "Requirement already satisfied: aiohttp<4.0.0,>=3.8.6 in /var/data/python/lib/python3.11/site-packages (from llama-index-core<0.11.0,>=0.10.1->llama-index-embeddings-langchain) (3.9.3)\n",
      "Requirement already satisfied: dataclasses-json in /var/data/python/lib/python3.11/site-packages (from llama-index-core<0.11.0,>=0.10.1->llama-index-embeddings-langchain) (0.6.4)\n",
      "Requirement already satisfied: deprecated>=1.2.9.3 in /var/data/python/lib/python3.11/site-packages (from llama-index-core<0.11.0,>=0.10.1->llama-index-embeddings-langchain) (1.2.14)\n",
      "Requirement already satisfied: dirtyjson<2.0.0,>=1.0.8 in /var/data/python/lib/python3.11/site-packages (from llama-index-core<0.11.0,>=0.10.1->llama-index-embeddings-langchain) (1.0.8)\n",
      "Requirement already satisfied: fsspec>=2023.5.0 in /var/data/python/lib/python3.11/site-packages (from llama-index-core<0.11.0,>=0.10.1->llama-index-embeddings-langchain) (2024.3.1)\n",
      "Requirement already satisfied: httpx in /var/data/python/lib/python3.11/site-packages (from llama-index-core<0.11.0,>=0.10.1->llama-index-embeddings-langchain) (0.27.0)\n",
      "Requirement already satisfied: llamaindex-py-client<0.2.0,>=0.1.16 in /var/data/python/lib/python3.11/site-packages (from llama-index-core<0.11.0,>=0.10.1->llama-index-embeddings-langchain) (0.1.16)\n",
      "Requirement already satisfied: nest-asyncio<2.0.0,>=1.5.8 in /var/data/python/lib/python3.11/site-packages (from llama-index-core<0.11.0,>=0.10.1->llama-index-embeddings-langchain) (1.6.0)\n",
      "Requirement already satisfied: networkx>=3.0 in /var/data/python/lib/python3.11/site-packages (from llama-index-core<0.11.0,>=0.10.1->llama-index-embeddings-langchain) (3.2.1)\n",
      "Requirement already satisfied: nltk<4.0.0,>=3.8.1 in /var/data/python/lib/python3.11/site-packages (from llama-index-core<0.11.0,>=0.10.1->llama-index-embeddings-langchain) (3.8.1)\n",
      "Requirement already satisfied: numpy in /var/data/python/lib/python3.11/site-packages (from llama-index-core<0.11.0,>=0.10.1->llama-index-embeddings-langchain) (1.26.3)\n",
      "Requirement already satisfied: openai>=1.1.0 in /var/data/python/lib/python3.11/site-packages (from llama-index-core<0.11.0,>=0.10.1->llama-index-embeddings-langchain) (1.16.2)\n",
      "Requirement already satisfied: pandas in /var/data/python/lib/python3.11/site-packages (from llama-index-core<0.11.0,>=0.10.1->llama-index-embeddings-langchain) (2.2.1)\n",
      "Requirement already satisfied: pillow>=9.0.0 in /var/data/python/lib/python3.11/site-packages (from llama-index-core<0.11.0,>=0.10.1->llama-index-embeddings-langchain) (10.2.0)\n",
      "Requirement already satisfied: requests>=2.31.0 in /var/data/python/lib/python3.11/site-packages (from llama-index-core<0.11.0,>=0.10.1->llama-index-embeddings-langchain) (2.31.0)\n",
      "Requirement already satisfied: tenacity<9.0.0,>=8.2.0 in /var/data/python/lib/python3.11/site-packages (from llama-index-core<0.11.0,>=0.10.1->llama-index-embeddings-langchain) (8.2.3)\n",
      "Requirement already satisfied: tiktoken>=0.3.3 in /var/data/python/lib/python3.11/site-packages (from llama-index-core<0.11.0,>=0.10.1->llama-index-embeddings-langchain) (0.6.0)\n",
      "Requirement already satisfied: tqdm<5.0.0,>=4.66.1 in /var/data/python/lib/python3.11/site-packages (from llama-index-core<0.11.0,>=0.10.1->llama-index-embeddings-langchain) (4.66.2)\n",
      "Requirement already satisfied: typing-extensions>=4.5.0 in /var/data/python/lib/python3.11/site-packages (from llama-index-core<0.11.0,>=0.10.1->llama-index-embeddings-langchain) (4.11.0)\n",
      "Requirement already satisfied: typing-inspect>=0.8.0 in /var/data/python/lib/python3.11/site-packages (from llama-index-core<0.11.0,>=0.10.1->llama-index-embeddings-langchain) (0.9.0)\n",
      "Requirement already satisfied: wrapt in /var/data/python/lib/python3.11/site-packages (from llama-index-core<0.11.0,>=0.10.1->llama-index-embeddings-langchain) (1.16.0)\n",
      "Requirement already satisfied: aiosignal>=1.1.2 in /var/data/python/lib/python3.11/site-packages (from aiohttp<4.0.0,>=3.8.6->llama-index-core<0.11.0,>=0.10.1->llama-index-embeddings-langchain) (1.3.1)\n",
      "Requirement already satisfied: attrs>=17.3.0 in /var/data/python/lib/python3.11/site-packages (from aiohttp<4.0.0,>=3.8.6->llama-index-core<0.11.0,>=0.10.1->llama-index-embeddings-langchain) (23.2.0)\n",
      "Requirement already satisfied: frozenlist>=1.1.1 in /var/data/python/lib/python3.11/site-packages (from aiohttp<4.0.0,>=3.8.6->llama-index-core<0.11.0,>=0.10.1->llama-index-embeddings-langchain) (1.4.1)\n",
      "Requirement already satisfied: multidict<7.0,>=4.5 in /var/data/python/lib/python3.11/site-packages (from aiohttp<4.0.0,>=3.8.6->llama-index-core<0.11.0,>=0.10.1->llama-index-embeddings-langchain) (6.0.5)\n",
      "Requirement already satisfied: yarl<2.0,>=1.0 in /var/data/python/lib/python3.11/site-packages (from aiohttp<4.0.0,>=3.8.6->llama-index-core<0.11.0,>=0.10.1->llama-index-embeddings-langchain) (1.9.4)\n",
      "Requirement already satisfied: pydantic>=1.10 in /var/data/python/lib/python3.11/site-packages (from llamaindex-py-client<0.2.0,>=0.1.16->llama-index-core<0.11.0,>=0.10.1->llama-index-embeddings-langchain) (2.6.4)\n",
      "Requirement already satisfied: anyio in /var/data/python/lib/python3.11/site-packages (from httpx->llama-index-core<0.11.0,>=0.10.1->llama-index-embeddings-langchain) (4.3.0)\n",
      "Requirement already satisfied: certifi in /var/data/python/lib/python3.11/site-packages (from httpx->llama-index-core<0.11.0,>=0.10.1->llama-index-embeddings-langchain) (2024.2.2)\n",
      "Requirement already satisfied: httpcore==1.* in /var/data/python/lib/python3.11/site-packages (from httpx->llama-index-core<0.11.0,>=0.10.1->llama-index-embeddings-langchain) (1.0.5)\n",
      "Requirement already satisfied: idna in /var/data/python/lib/python3.11/site-packages (from httpx->llama-index-core<0.11.0,>=0.10.1->llama-index-embeddings-langchain) (3.6)\n",
      "Requirement already satisfied: sniffio in /var/data/python/lib/python3.11/site-packages (from httpx->llama-index-core<0.11.0,>=0.10.1->llama-index-embeddings-langchain) (1.3.1)\n",
      "Requirement already satisfied: h11<0.15,>=0.13 in /var/data/python/lib/python3.11/site-packages (from httpcore==1.*->httpx->llama-index-core<0.11.0,>=0.10.1->llama-index-embeddings-langchain) (0.14.0)\n",
      "Requirement already satisfied: click in /var/data/python/lib/python3.11/site-packages (from nltk<4.0.0,>=3.8.1->llama-index-core<0.11.0,>=0.10.1->llama-index-embeddings-langchain) (8.1.7)\n",
      "Requirement already satisfied: joblib in /var/data/python/lib/python3.11/site-packages (from nltk<4.0.0,>=3.8.1->llama-index-core<0.11.0,>=0.10.1->llama-index-embeddings-langchain) (1.3.2)\n",
      "Requirement already satisfied: regex>=2021.8.3 in /var/data/python/lib/python3.11/site-packages (from nltk<4.0.0,>=3.8.1->llama-index-core<0.11.0,>=0.10.1->llama-index-embeddings-langchain) (2023.12.25)\n",
      "Requirement already satisfied: distro<2,>=1.7.0 in /var/data/python/lib/python3.11/site-packages (from openai>=1.1.0->llama-index-core<0.11.0,>=0.10.1->llama-index-embeddings-langchain) (1.9.0)\n",
      "Requirement already satisfied: charset-normalizer<4,>=2 in /var/data/python/lib/python3.11/site-packages (from requests>=2.31.0->llama-index-core<0.11.0,>=0.10.1->llama-index-embeddings-langchain) (3.3.2)\n",
      "Requirement already satisfied: urllib3<3,>=1.21.1 in /var/data/python/lib/python3.11/site-packages (from requests>=2.31.0->llama-index-core<0.11.0,>=0.10.1->llama-index-embeddings-langchain) (2.0.7)\n",
      "Requirement already satisfied: greenlet!=0.4.17 in /var/data/python/lib/python3.11/site-packages (from SQLAlchemy>=1.4.49->SQLAlchemy[asyncio]>=1.4.49->llama-index-core<0.11.0,>=0.10.1->llama-index-embeddings-langchain) (3.0.3)\n",
      "Requirement already satisfied: mypy-extensions>=0.3.0 in /var/data/python/lib/python3.11/site-packages (from typing-inspect>=0.8.0->llama-index-core<0.11.0,>=0.10.1->llama-index-embeddings-langchain) (1.0.0)\n",
      "Requirement already satisfied: marshmallow<4.0.0,>=3.18.0 in /var/data/python/lib/python3.11/site-packages (from dataclasses-json->llama-index-core<0.11.0,>=0.10.1->llama-index-embeddings-langchain) (3.21.1)\n",
      "Requirement already satisfied: python-dateutil>=2.8.2 in /var/data/python/lib/python3.11/site-packages (from pandas->llama-index-core<0.11.0,>=0.10.1->llama-index-embeddings-langchain) (2.9.0.post0)\n",
      "Requirement already satisfied: pytz>=2020.1 in /var/data/python/lib/python3.11/site-packages (from pandas->llama-index-core<0.11.0,>=0.10.1->llama-index-embeddings-langchain) (2024.1)\n",
      "Requirement already satisfied: tzdata>=2022.7 in /var/data/python/lib/python3.11/site-packages (from pandas->llama-index-core<0.11.0,>=0.10.1->llama-index-embeddings-langchain) (2024.1)\n",
      "Requirement already satisfied: packaging>=17.0 in /var/data/python/lib/python3.11/site-packages (from marshmallow<4.0.0,>=3.18.0->dataclasses-json->llama-index-core<0.11.0,>=0.10.1->llama-index-embeddings-langchain) (23.2)\n",
      "Requirement already satisfied: annotated-types>=0.4.0 in /var/data/python/lib/python3.11/site-packages (from pydantic>=1.10->llamaindex-py-client<0.2.0,>=0.1.16->llama-index-core<0.11.0,>=0.10.1->llama-index-embeddings-langchain) (0.6.0)\n",
      "Requirement already satisfied: pydantic-core==2.16.3 in /var/data/python/lib/python3.11/site-packages (from pydantic>=1.10->llamaindex-py-client<0.2.0,>=0.1.16->llama-index-core<0.11.0,>=0.10.1->llama-index-embeddings-langchain) (2.16.3)\n",
      "Requirement already satisfied: six>=1.5 in /usr/lib/python3.11/site-packages (from python-dateutil>=2.8.2->pandas->llama-index-core<0.11.0,>=0.10.1->llama-index-embeddings-langchain) (1.16.0)\n",
      "Downloading llama_index_embeddings_langchain-0.1.2-py3-none-any.whl (2.5 kB)\n",
      "Installing collected packages: llama-index-embeddings-langchain\n",
      "Successfully installed llama-index-embeddings-langchain-0.1.2\n"
     ]
    }
   ],
   "source": [
    "!pip install llama-index-embeddings-langchain"
   ]
  },
  {
   "cell_type": "code",
   "execution_count": 31,
   "metadata": {},
   "outputs": [
    {
     "name": "stderr",
     "output_type": "stream",
     "text": [
      "huggingface/tokenizers: The current process just got forked, after parallelism has already been used. Disabling parallelism to avoid deadlocks...\n",
      "To disable this warning, you can either:\n",
      "\t- Avoid using `tokenizers` before the fork if possible\n",
      "\t- Explicitly set the environment variable TOKENIZERS_PARALLELISM=(true | false)\n"
     ]
    },
    {
     "name": "stdout",
     "output_type": "stream",
     "text": [
      "Defaulting to user installation because normal site-packages is not writeable\n",
      "Collecting accelerate\n",
      "  Downloading accelerate-0.29.1-py3-none-any.whl.metadata (18 kB)\n",
      "Requirement already satisfied: numpy>=1.17 in /var/data/python/lib/python3.11/site-packages (from accelerate) (1.26.3)\n",
      "Requirement already satisfied: packaging>=20.0 in /var/data/python/lib/python3.11/site-packages (from accelerate) (23.2)\n",
      "Requirement already satisfied: psutil in /var/data/python/lib/python3.11/site-packages (from accelerate) (5.9.8)\n",
      "Requirement already satisfied: pyyaml in /var/data/python/lib/python3.11/site-packages (from accelerate) (6.0.1)\n",
      "Requirement already satisfied: torch>=1.10.0 in /var/data/python/lib/python3.11/site-packages (from accelerate) (2.2.2+cu121)\n",
      "Requirement already satisfied: huggingface-hub in /var/data/python/lib/python3.11/site-packages (from accelerate) (0.21.4)\n",
      "Requirement already satisfied: safetensors>=0.3.1 in /var/data/python/lib/python3.11/site-packages (from accelerate) (0.4.2)\n",
      "Requirement already satisfied: filelock in /var/data/python/lib/python3.11/site-packages (from torch>=1.10.0->accelerate) (3.9.0)\n",
      "Requirement already satisfied: typing-extensions>=4.8.0 in /var/data/python/lib/python3.11/site-packages (from torch>=1.10.0->accelerate) (4.11.0)\n",
      "Requirement already satisfied: sympy in /var/data/python/lib/python3.11/site-packages (from torch>=1.10.0->accelerate) (1.12)\n",
      "Requirement already satisfied: networkx in /var/data/python/lib/python3.11/site-packages (from torch>=1.10.0->accelerate) (3.2.1)\n",
      "Requirement already satisfied: jinja2 in /var/data/python/lib/python3.11/site-packages (from torch>=1.10.0->accelerate) (3.1.2)\n",
      "Requirement already satisfied: fsspec in /var/data/python/lib/python3.11/site-packages (from torch>=1.10.0->accelerate) (2024.3.1)\n",
      "Requirement already satisfied: nvidia-cuda-nvrtc-cu12==12.1.105 in /var/data/python/lib/python3.11/site-packages (from torch>=1.10.0->accelerate) (12.1.105)\n",
      "Requirement already satisfied: nvidia-cuda-runtime-cu12==12.1.105 in /var/data/python/lib/python3.11/site-packages (from torch>=1.10.0->accelerate) (12.1.105)\n",
      "Requirement already satisfied: nvidia-cuda-cupti-cu12==12.1.105 in /var/data/python/lib/python3.11/site-packages (from torch>=1.10.0->accelerate) (12.1.105)\n",
      "Requirement already satisfied: nvidia-cudnn-cu12==8.9.2.26 in /var/data/python/lib/python3.11/site-packages (from torch>=1.10.0->accelerate) (8.9.2.26)\n",
      "Requirement already satisfied: nvidia-cublas-cu12==12.1.3.1 in /var/data/python/lib/python3.11/site-packages (from torch>=1.10.0->accelerate) (12.1.3.1)\n",
      "Requirement already satisfied: nvidia-cufft-cu12==11.0.2.54 in /var/data/python/lib/python3.11/site-packages (from torch>=1.10.0->accelerate) (11.0.2.54)\n",
      "Requirement already satisfied: nvidia-curand-cu12==10.3.2.106 in /var/data/python/lib/python3.11/site-packages (from torch>=1.10.0->accelerate) (10.3.2.106)\n",
      "Requirement already satisfied: nvidia-cusolver-cu12==11.4.5.107 in /var/data/python/lib/python3.11/site-packages (from torch>=1.10.0->accelerate) (11.4.5.107)\n",
      "Requirement already satisfied: nvidia-cusparse-cu12==12.1.0.106 in /var/data/python/lib/python3.11/site-packages (from torch>=1.10.0->accelerate) (12.1.0.106)\n",
      "Requirement already satisfied: nvidia-nccl-cu12==2.19.3 in /var/data/python/lib/python3.11/site-packages (from torch>=1.10.0->accelerate) (2.19.3)\n",
      "Requirement already satisfied: nvidia-nvtx-cu12==12.1.105 in /var/data/python/lib/python3.11/site-packages (from torch>=1.10.0->accelerate) (12.1.105)\n",
      "Requirement already satisfied: triton==2.2.0 in /var/data/python/lib/python3.11/site-packages (from torch>=1.10.0->accelerate) (2.2.0)\n",
      "Requirement already satisfied: nvidia-nvjitlink-cu12 in /var/data/python/lib/python3.11/site-packages (from nvidia-cusolver-cu12==11.4.5.107->torch>=1.10.0->accelerate) (12.4.99)\n",
      "Requirement already satisfied: requests in /var/data/python/lib/python3.11/site-packages (from huggingface-hub->accelerate) (2.31.0)\n",
      "Requirement already satisfied: tqdm>=4.42.1 in /var/data/python/lib/python3.11/site-packages (from huggingface-hub->accelerate) (4.66.2)\n",
      "Requirement already satisfied: MarkupSafe>=2.0 in /var/data/python/lib/python3.11/site-packages (from jinja2->torch>=1.10.0->accelerate) (2.1.3)\n",
      "Requirement already satisfied: charset-normalizer<4,>=2 in /var/data/python/lib/python3.11/site-packages (from requests->huggingface-hub->accelerate) (3.3.2)\n",
      "Requirement already satisfied: idna<4,>=2.5 in /var/data/python/lib/python3.11/site-packages (from requests->huggingface-hub->accelerate) (3.6)\n",
      "Requirement already satisfied: urllib3<3,>=1.21.1 in /var/data/python/lib/python3.11/site-packages (from requests->huggingface-hub->accelerate) (2.0.7)\n",
      "Requirement already satisfied: certifi>=2017.4.17 in /var/data/python/lib/python3.11/site-packages (from requests->huggingface-hub->accelerate) (2024.2.2)\n",
      "Requirement already satisfied: mpmath>=0.19 in /var/data/python/lib/python3.11/site-packages (from sympy->torch>=1.10.0->accelerate) (1.3.0)\n",
      "Downloading accelerate-0.29.1-py3-none-any.whl (297 kB)\n",
      "\u001b[2K   \u001b[90m━━━━━━━━━━━━━━━━━━━━━━━━━━━━━━━━━━━━━━━━\u001b[0m \u001b[32m297.3/297.3 kB\u001b[0m \u001b[31m2.0 MB/s\u001b[0m eta \u001b[36m0:00:00\u001b[0ma \u001b[36m0:00:01\u001b[0m\n",
      "\u001b[?25hInstalling collected packages: accelerate\n",
      "Successfully installed accelerate-0.29.1\n"
     ]
    }
   ],
   "source": [
    "!pip install accelerate"
   ]
  },
  {
   "cell_type": "code",
   "execution_count": 9,
   "metadata": {},
   "outputs": [],
   "source": [
    "from llama_index.core import VectorStoreIndex, SimpleDirectoryReader, ServiceContext\n",
    "from llama_index.llms.ollama import Ollama\n",
    "from llama_index.core.prompts.prompts import SimpleInputPrompt\n"
   ]
  },
  {
   "cell_type": "code",
   "execution_count": 66,
   "metadata": {},
   "outputs": [
    {
     "data": {
      "text/plain": [
       "3"
      ]
     },
     "execution_count": 66,
     "metadata": {},
     "output_type": "execute_result"
    }
   ],
   "source": [
    "docs = SimpleDirectoryReader('/home/pacotoh/Documents/Data/data').load_data()\n",
    "len(docs)"
   ]
  },
  {
   "cell_type": "code",
   "execution_count": 84,
   "metadata": {},
   "outputs": [
    {
     "data": {
      "text/plain": [
       "list"
      ]
     },
     "execution_count": 84,
     "metadata": {},
     "output_type": "execute_result"
    }
   ],
   "source": [
    "type(docs)"
   ]
  },
  {
   "cell_type": "code",
   "execution_count": 82,
   "metadata": {},
   "outputs": [
    {
     "data": {
      "text/plain": [
       "{'file_path': '/home/pacotoh/Documents/Data/data/pg103.txt',\n",
       " 'file_name': 'pg103.txt',\n",
       " 'file_type': 'text/plain',\n",
       " 'file_size': 403730,\n",
       " 'creation_date': '2024-04-07',\n",
       " 'last_modified_date': '2024-04-04'}"
      ]
     },
     "execution_count": 82,
     "metadata": {},
     "output_type": "execute_result"
    }
   ],
   "source": [
    "docs[0].metadata"
   ]
  },
  {
   "cell_type": "code",
   "execution_count": 56,
   "metadata": {},
   "outputs": [],
   "source": [
    "system_prompt = \"\"\"\n",
    "You are a Book information expert. Your goal is to answer questions as accurately as\n",
    "possible based on the instructions and context provided. Do short answers to the questions\n",
    "\"\"\"\n",
    "\n",
    "query_wrapper_prompt = SimpleInputPrompt('<|USER|>{query_str}<|ASSISTANT|>')"
   ]
  },
  {
   "cell_type": "code",
   "execution_count": 50,
   "metadata": {},
   "outputs": [],
   "source": [
    "llm = Ollama(model='llama2:13b', \n",
    "             query_wrapper_prompt=query_wrapper_prompt, \n",
    "             system_prompt=system_prompt)"
   ]
  },
  {
   "cell_type": "code",
   "execution_count": 88,
   "metadata": {},
   "outputs": [
    {
     "data": {
      "text/plain": [
       "Ollama(callback_manager=<llama_index.core.callbacks.base.CallbackManager object at 0x7d12ace08490>, system_prompt='\\nYou are a Book information expert. Your goal is to answer questions as accurately as\\npossible based on the instructions and context provided. Do short answers to the questions\\n', messages_to_prompt=<function messages_to_prompt at 0x7d132336a8e0>, completion_to_prompt=<function default_completion_to_prompt at 0x7d13233da2a0>, output_parser=None, pydantic_program_mode=<PydanticProgramMode.DEFAULT: 'default'>, query_wrapper_prompt=PromptTemplate(metadata={'prompt_type': <PromptType.CUSTOM: 'custom'>}, template_vars=['query_str'], kwargs={}, output_parser=None, template_var_mappings=None, function_mappings=None, template='<|USER|>{query_str}<|ASSISTANT|>'), base_url='http://localhost:11434', model='llama2:13b', temperature=0.75, context_window=3900, request_timeout=30.0, prompt_key='prompt', additional_kwargs={})"
      ]
     },
     "execution_count": 88,
     "metadata": {},
     "output_type": "execute_result"
    }
   ],
   "source": [
    "llm"
   ]
  },
  {
   "cell_type": "code",
   "execution_count": 51,
   "metadata": {},
   "outputs": [],
   "source": [
    "from langchain.embeddings.huggingface import HuggingFaceEmbeddings\n",
    "from llama_index.core import ServiceContext\n",
    "from llama_index.embeddings.langchain import LangchainEmbedding\n",
    "\n",
    "embed_model = LangchainEmbedding (HuggingFaceEmbeddings(model_name='sentence-transformers/all-mpnet-base-v2'))"
   ]
  },
  {
   "cell_type": "code",
   "execution_count": 52,
   "metadata": {},
   "outputs": [
    {
     "name": "stderr",
     "output_type": "stream",
     "text": [
      "/tmp/ipykernel_433/186755162.py:1: DeprecationWarning: Call to deprecated class method from_defaults. (ServiceContext is deprecated, please use `llama_index.settings.Settings` instead.) -- Deprecated since version 0.10.0.\n",
      "  service_context = ServiceContext.from_defaults(\n"
     ]
    }
   ],
   "source": [
    "service_context = ServiceContext.from_defaults(\n",
    "    chunk_size=1024,\n",
    "    llm=llm,\n",
    "    embed_model=embed_model\n",
    ")"
   ]
  },
  {
   "cell_type": "code",
   "execution_count": 53,
   "metadata": {},
   "outputs": [
    {
     "data": {
      "text/plain": [
       "ServiceContext(llm_predictor=LLMPredictor(system_prompt=None, query_wrapper_prompt=None, pydantic_program_mode=<PydanticProgramMode.DEFAULT: 'default'>), prompt_helper=PromptHelper(context_window=3900, num_output=256, chunk_overlap_ratio=0.1, chunk_size_limit=None, separator=' '), embed_model=LangchainEmbedding(model_name='sentence-transformers/all-mpnet-base-v2', embed_batch_size=10, callback_manager=<llama_index.core.callbacks.base.CallbackManager object at 0x7d11c3ae4e50>), transformations=[SentenceSplitter(include_metadata=True, include_prev_next_rel=True, callback_manager=<llama_index.core.callbacks.base.CallbackManager object at 0x7d11c3ae4e50>, id_func=<function default_id_func at 0x7d132090f4c0>, chunk_size=1024, chunk_overlap=200, separator=' ', paragraph_separator='\\n\\n\\n', secondary_chunking_regex='[^,.;。？！]+[,.;。？！]?')], llama_logger=<llama_index.core.service_context_elements.llama_logger.LlamaLogger object at 0x7d12aed3af90>, callback_manager=<llama_index.core.callbacks.base.CallbackManager object at 0x7d11c3ae4e50>)"
      ]
     },
     "execution_count": 53,
     "metadata": {},
     "output_type": "execute_result"
    }
   ],
   "source": [
    "service_context"
   ]
  },
  {
   "cell_type": "code",
   "execution_count": 68,
   "metadata": {},
   "outputs": [],
   "source": [
    "index = VectorStoreIndex.from_documents(docs, service_context=service_context)"
   ]
  },
  {
   "cell_type": "code",
   "execution_count": 76,
   "metadata": {},
   "outputs": [],
   "source": [
    "query_engine = index.as_query_engine()\n",
    "response = query_engine.query('Who is Jesuschrist?')"
   ]
  },
  {
   "cell_type": "code",
   "execution_count": 86,
   "metadata": {},
   "outputs": [
    {
     "data": {
      "text/plain": [
       "llama_index.core.query_engine.retriever_query_engine.RetrieverQueryEngine"
      ]
     },
     "execution_count": 86,
     "metadata": {},
     "output_type": "execute_result"
    }
   ],
   "source": [
    "type(query_engine)"
   ]
  },
  {
   "cell_type": "code",
   "execution_count": 77,
   "metadata": {},
   "outputs": [
    {
     "data": {
      "text/plain": [
       "Response(response='Jesus Christ is not mentioned in the provided text context. The text discusses the lives of Eskimos and their conversion to Christianity by a missionary named Samuel Milliken Stewart. There is no mention of Jesus Christ or any other religious figures.', source_nodes=[NodeWithScore(node=TextNode(id_='4a845e9b-cc51-462a-93e2-1f5b7f7c4ba9', embedding=None, metadata={'file_path': '/home/pacotoh/Documents/Data/data/pg9857.txt', 'file_name': 'pg9857.txt', 'file_type': 'text/plain', 'file_size': 464336, 'creation_date': '2024-04-07', 'last_modified_date': '2024-04-04'}, excluded_embed_metadata_keys=['file_name', 'file_type', 'file_size', 'creation_date', 'last_modified_date', 'last_accessed_date'], excluded_llm_metadata_keys=['file_name', 'file_type', 'file_size', 'creation_date', 'last_modified_date', 'last_accessed_date'], relationships={<NodeRelationship.SOURCE: '1'>: RelatedNodeInfo(node_id='3ddce1d4-ea47-4a1c-b115-86da35fb77ee', node_type=<ObjectType.DOCUMENT: '4'>, metadata={'file_path': '/home/pacotoh/Documents/Data/data/pg9857.txt', 'file_name': 'pg9857.txt', 'file_type': 'text/plain', 'file_size': 464336, 'creation_date': '2024-04-07', 'last_modified_date': '2024-04-04'}, hash='aff3c374241ee2a5377e494b3c658595787be9778e2302ee1a72bbb56b0e1e01'), <NodeRelationship.PREVIOUS: '2'>: RelatedNodeInfo(node_id='3e39d0d9-4474-40b3-9d62-6eb2114b0b06', node_type=<ObjectType.TEXT: '1'>, metadata={'file_path': '/home/pacotoh/Documents/Data/data/pg9857.txt', 'file_name': 'pg9857.txt', 'file_type': 'text/plain', 'file_size': 464336, 'creation_date': '2024-04-07', 'last_modified_date': '2024-04-04'}, hash='27ca791a2acb3c079637d49aa1fc05e683e3ace91194164a335983efee9effd5'), <NodeRelationship.NEXT: '3'>: RelatedNodeInfo(node_id='3ec6212b-783c-4a6e-bf41-b1175d36755a', node_type=<ObjectType.TEXT: '1'>, metadata={}, hash='f610abf8b8e4e9d251eb22b9dceb1caaa2756301b34db3f6b03dc72b1921cd88')}, text='The next\\r\\nin importance was Kumuk.  Kumuk means louse, and it fitted the man\\'s\\r\\nnature well.  The youngest was Iksialook (Big Yolk of an Egg).\\r\\nPotokomik had been rechristened by a Hudson\\'s Bay Company agent\\r\\n\"Kenneth,\" and Kumuk, in like manner, had had the name of \"George\"\\r\\nbestowed upon him, but Iksialook bad been overlooked or neglected in\\r\\nthis respect, and his brain was not taxed with trying to remember a\\r\\nChristian cognomen that none of his people would ever call or know him\\r\\nby.\\r\\n\\r\\nPotokomik was really a remarkable man and proved most faithful to us.\\r\\nIt is, in fact, to his faithfulness and control over the others,\\r\\nparticularly Kumuk, that Easton and I owe our lives, as will appear\\r\\nlater.  He was at one time conjurer of the Kangerlualuksoakmiut, or\\r\\nGeorge River Eskimos, and is still their leader, but during a visit to\\r\\nthe Atlantic coast, some three or four years ago, he came under the\\r\\ninfluence of a missionary, embraced Christianity, and abandoned the\\r\\nheathen conjuring swindle by which he was, up to that time, making a\\r\\ngood living.  Now he lives a life about as clean and free from the\\r\\nheathenism and superstitions of his race as any Eskimo can who adopts a\\r\\nnew religion.  The missionary whom I have mentioned led Potokomik\\'s\\r\\nmother to accept Christ and renounce Torngak when she was on her\\r\\ndeathbed, and before she died she confessed to many sins, amongst them\\r\\nthat of having aided in the killing and eating, when driven to the act\\r\\nby starvation, of her own mother.\\r\\n\\r\\nAfter our tent was pitched and the Eskimos had spread the _Explorer\\'s_\\r\\nsail as a shelter for themselves, Kumuk and Iksialook left us to look\\r\\nfor driftwood and, in half an hour, returned with a few small sticks\\r\\nthat they had found on the shore.  These sticks were exceedingly scarce\\r\\nand, of course, very precious and with the greatest economy in the use\\r\\nof the wood, a fire was made and the kettle boiled for tea.\\r\\n\\r\\nAt first the Eskimos were always doing unexpected things and springing\\r\\nsurprises upon us, but soon we became more or less accustomed to their\\r\\nways.  Not one of them could talk or understand English and my Eskimo\\r\\nvocabulary was limited to the one word \"Oksunae,\" and we therefore had\\r\\nconsiderable difficulty in making each other understand, and the\\r\\npantomime and various methods of communication resorted to were often\\r\\nvery funny to see.  Potokomik and I started in at once to learn what we\\r\\ncould of each other\\'s language, and it is wonderful how much can be\\r\\naccomplished in the acquirement of a vocabulary in a short time and how\\r\\nfew words are really necessary to convey ideas.  I would point at the\\r\\ntent and say, \"Tent,\" and he would say, \"Tupek\"; or at my sheath knife\\r\\nand say, \"Knife,\" and he would say, \"Chevik,\" and thus each learned the\\r\\nother\\'s word for nearly everything about us and such words as \"good,\"\\r\\n\"bad,\" \"wind\" and so on; and in a few days we were able to make each\\r\\nother understand in a general way, with our mixed English and Eskimo.\\r\\n\\r\\nThe northeast wind and low-hanging clouds of the morning carried into\\r\\nexecution their threat, and all Sunday afternoon and all day Monday the\\r\\nsnowstorm raged with fury.  I took pity on the Eskimos and on Sunday\\r\\nnight invited all of them to sleep in our tent, but only Potokomik\\r\\ncame, and on Monday morning, when I went out at break of day, I found\\r\\nthe other two sleeping under a snowdrift, for the lean-to made of the\\r\\nboat sail had not protected them much.  After that they accepted my\\r\\ninvitation and joined us in the tent.\\r\\n\\r\\nIt did not clear until Tuesday morning, and then we hoisted sail and\\r\\nstarted forward out of the river and into the broad, treacherous waters\\r\\nof Hudson Straits, working with the oars to keep warm and accelerate\\r\\nprogress, for the wind was against us at first until we turned out of\\r\\nthe river, and we had long tacks to make.\\r\\n\\r\\nAt the Post, as was stated, there is a rise and fall of tide of forty\\r\\nfeet.', start_char_idx=250257, end_char_idx=254193, text_template='{metadata_str}\\n\\n{content}', metadata_template='{key}: {value}', metadata_seperator='\\n'), score=0.29689474964495993), NodeWithScore(node=TextNode(id_='359114d2-9aa0-4f13-9974-efd49f6cc055', embedding=None, metadata={'file_path': '/home/pacotoh/Documents/Data/data/pg9857.txt', 'file_name': 'pg9857.txt', 'file_type': 'text/plain', 'file_size': 464336, 'creation_date': '2024-04-07', 'last_modified_date': '2024-04-04'}, excluded_embed_metadata_keys=['file_name', 'file_type', 'file_size', 'creation_date', 'last_modified_date', 'last_accessed_date'], excluded_llm_metadata_keys=['file_name', 'file_type', 'file_size', 'creation_date', 'last_modified_date', 'last_accessed_date'], relationships={<NodeRelationship.SOURCE: '1'>: RelatedNodeInfo(node_id='3ddce1d4-ea47-4a1c-b115-86da35fb77ee', node_type=<ObjectType.DOCUMENT: '4'>, metadata={'file_path': '/home/pacotoh/Documents/Data/data/pg9857.txt', 'file_name': 'pg9857.txt', 'file_type': 'text/plain', 'file_size': 464336, 'creation_date': '2024-04-07', 'last_modified_date': '2024-04-04'}, hash='aff3c374241ee2a5377e494b3c658595787be9778e2302ee1a72bbb56b0e1e01'), <NodeRelationship.PREVIOUS: '2'>: RelatedNodeInfo(node_id='06772da6-d7e6-499b-b718-fba7dfa79024', node_type=<ObjectType.TEXT: '1'>, metadata={'file_path': '/home/pacotoh/Documents/Data/data/pg9857.txt', 'file_name': 'pg9857.txt', 'file_type': 'text/plain', 'file_size': 464336, 'creation_date': '2024-04-07', 'last_modified_date': '2024-04-04'}, hash='8ca054ceb9f2b11ab128c8aaa0a069fedc91c2701ef7859e973891e7b8afb883'), <NodeRelationship.NEXT: '3'>: RelatedNodeInfo(node_id='b1915393-cc1c-4c1c-8c87-0e92a90cdd38', node_type=<ObjectType.TEXT: '1'>, metadata={}, hash='09a63d1ee470aeffa96c6dc2bd7da0f427789bdd742545783d6ece4ed422c4b1')}, text=\"Of all the missionaries that I met in this bleak northern land, devoted\\r\\nas every one of them is to his life work, none was more devoted and\\r\\nnone was doing a more self-sacrificing work than the Rev. Samuel\\r\\nMilliken Stewart of Fort Chimo.  His novitiate as a missionary was\\r\\nbegun in one of the little out-port fishing villages of Newfoundland.\\r\\nFinally he was transferred to that fearfully barren stretch among the\\r\\nheathen Eskimos north of Nachvak.  Here he and his Eskimo servant\\r\\ngathered together such loose driftwood as they could find, and with\\r\\nthis and stones and turf erected a single-roomed igloo. It was a small\\r\\naffair, not over ten by twelve or fourteen feet in size, and an\\r\\nimaginary line separated the missionary's quarters from his servant's.\\r\\nOn his knees, in an old resting place for the dead, with the bleaching\\r\\nbones of heathen Eskimos strewn over the rocks about him, he\\r\\nconsecrated his life efforts to the conversion of this people to\\r\\nChristianity.  Then he went to work to accomplish this purpose in a\\r\\nbusinesslike way.  He set himself the infinite task of mastering the\\r\\ndifficult language.  He lived their life with them, visiting and\\r\\nsleeping with them in their filthy igloos--so filthy and so filled with\\r\\nstench from the putrid meat and fish scraps that they permit to lie\\r\\nabout and decay that frequently at first, until he became accustomed to\\r\\nit, he was forced to seek the open air and relieve the resulting\\r\\nnausea.  But Stewart is a man of iron will, and he never wavered.  He\\r\\nstudied his people, administered medicines to the sick, and taught the\\r\\ndoctrines of Christianity--Love, Faith and Charity--at every\\r\\nopportunity.  That first winter was a trying one. All his little stock\\r\\nof fuel was exhausted early.  The few articles of furniture that he had\\r\\nbrought with him he burned to help keep out the frost demon, and before\\r\\nspring suffered greatly with the cold.  The winter before our arrival\\r\\nhe transferred his efforts to the Fort Chimo district, where his field\\r\\nwould be larger and he could reach a greater number of the heathens.\\r\\nDuring the journey to Fort Chimo, which was across the upper peninsula,\\r\\nwith dogs, he was lost in storms that prevailed at the time, his\\r\\nprovisions were exhausted, and one dog had been killed to feed the\\r\\nothers, before he finally met Eskimos who guided him in safety to\\r\\nGeorge River.  At Fort Chimo the Hudson's Bay Company set aside two\\r\\nsmall buildings to his use, one for a chapel, the other a little cabin\\r\\nin which he lives.  Here we found him one day with a pot of\\r\\nhigh-smelling seal meat cooking for his dogs and a pan of dough cakes\\r\\nfrying for himself.  With Stewart in this cabin I spent many delightful\\r\\nhours.  His constant flow of well-told stories, flavored with native\\r\\nIrish wit, was a sure panacea for despondency.  I believe Stewart, with\\r\\nhis sunny temperament, is really enjoying his life amongst the heathen,\\r\\nand he has made an obvious impression upon them, for every one of them\\r\\nturns out to his chapel meetings, where the services are conducted in\\r\\nEskimo, and takes part with a will.\\r\\n\\r\\nThe Eskimo religion, like that of the Indian, is one of fear. Numerous\\r\\nare the spirits that people the land and depths of the sea, but the\\r\\nchief of them all is Torngak, the spirit of Death, who from his cavern\\r\\ndwelling in the heights of the mighty Torngaeks (the mountains north of\\r\\nthe George River toward Cape Chidley) watches them always and rules\\r\\ntheir fortunes with an iron hand, dealing out misfortune, or\\r\\nwithholding it, at his will.  It is only through the medium of the\\r\\nAngakok, or conjurer, that the people can learn what to do to keep\\r\\nTorngak and the lesser spirits of evil, with their varying moods, in\\r\\ngood humor.  Stewart has led some of the Eskimos to at least outwardly\\r\\nrenounce their heathenism and profess Christianity.  In a few instances\\r\\nI believe they are sincere.  If he remains upon the field, as I know he\\r\\nwishes to do, he will have them all professing Christianity within the\\r\\nnext few years, for they like him.  But he has no more regard for\\r\\ndanger, when he believes duty calls him, than Dr. Grenfell has, and it\\r\\nis predicted on the coast that some day Dr.\", start_char_idx=326848, end_char_idx=331046, text_template='{metadata_str}\\n\\n{content}', metadata_template='{key}: {value}', metadata_seperator='\\n'), score=0.2735925618504637)], metadata={'4a845e9b-cc51-462a-93e2-1f5b7f7c4ba9': {'file_path': '/home/pacotoh/Documents/Data/data/pg9857.txt', 'file_name': 'pg9857.txt', 'file_type': 'text/plain', 'file_size': 464336, 'creation_date': '2024-04-07', 'last_modified_date': '2024-04-04'}, '359114d2-9aa0-4f13-9974-efd49f6cc055': {'file_path': '/home/pacotoh/Documents/Data/data/pg9857.txt', 'file_name': 'pg9857.txt', 'file_type': 'text/plain', 'file_size': 464336, 'creation_date': '2024-04-07', 'last_modified_date': '2024-04-04'}})"
      ]
     },
     "execution_count": 77,
     "metadata": {},
     "output_type": "execute_result"
    }
   ],
   "source": [
    "response"
   ]
  },
  {
   "cell_type": "code",
   "execution_count": 87,
   "metadata": {},
   "outputs": [
    {
     "data": {
      "text/plain": [
       "llama_index.core.indices.vector_store.base.VectorStoreIndex"
      ]
     },
     "execution_count": 87,
     "metadata": {},
     "output_type": "execute_result"
    }
   ],
   "source": [
    "type(index)"
   ]
  }
 ],
 "metadata": {
  "kernelspec": {
   "display_name": "Python 3",
   "language": "python",
   "name": "python3"
  },
  "language_info": {
   "codemirror_mode": {
    "name": "ipython",
    "version": 3
   },
   "file_extension": ".py",
   "mimetype": "text/x-python",
   "name": "python",
   "nbconvert_exporter": "python",
   "pygments_lexer": "ipython3",
   "version": "3.11.8"
  }
 },
 "nbformat": 4,
 "nbformat_minor": 2
}
