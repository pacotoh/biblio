{
 "cells": [
  {
   "cell_type": "code",
   "execution_count": 9,
   "metadata": {},
   "outputs": [
    {
     "name": "stdout",
     "output_type": "stream",
     "text": [
      "\n",
      "\u001b[1m[\u001b[0m\u001b[34;49mnotice\u001b[0m\u001b[1;39;49m]\u001b[0m\u001b[39;49m A new release of pip is available: \u001b[0m\u001b[31;49m23.2.1\u001b[0m\u001b[39;49m -> \u001b[0m\u001b[32;49m24.0\u001b[0m\n",
      "\u001b[1m[\u001b[0m\u001b[34;49mnotice\u001b[0m\u001b[1;39;49m]\u001b[0m\u001b[39;49m To update, run: \u001b[0m\u001b[32;49mpip install --upgrade pip\u001b[0m\n",
      "Note: you may need to restart the kernel to use updated packages.\n"
     ]
    }
   ],
   "source": [
    "%pip install nltk -q"
   ]
  },
  {
   "cell_type": "code",
   "execution_count": 2,
   "metadata": {},
   "outputs": [],
   "source": [
    "import re\n",
    "import string"
   ]
  },
  {
   "cell_type": "code",
   "execution_count": 3,
   "metadata": {},
   "outputs": [
    {
     "data": {
      "text/plain": [
       "'The Église Saint-Polycarpe (Church of St. Polycarp) is a Roman Catholic church located in the 1st arrondissement of Lyon, on the slopes of La Croix-Rousse, between rue René Leynaud, rue Burdeau and passages Mermet and Thiaffait. It is the oldest church of the Oratory of Saint Philip Neri.\\nThe church, built by the Oratorians installed on the slopes, was completed in 1670, with the exception of the façade that was built in 1756 by architect Toussaint Loyer who also lengthened the nave.\\nOn 19 June 1791, the Oratory Church became a parish church and took the name of St. Polycarp, as a tribute to Polycarp of Smyrna, master of Saint Pothinus and Irenaeus, who were the first two bishops of Lyon.\\nThe heart of Pauline-Marie Jaricot, founder of the Society for the Propagation of the Faith, currently remains in a chapel of the church.\\nThe church has a famous organ, built by Augustine Zeiger in 1841. Adrien Rougier was the titular organist of the church from 1932 to 1945. The previous organ (built in 1722) had been in a significant state of disrepair for several years before François Mensongueé, a prominent French composer and organist of the church since 1826, commissioned it to be replaced in 1837.\\nIn 1982, the church was classified as monument historique.\\nThe church has a facade decorated with four Corinthian pilasters topped by a triangular pediment. Louis Janmot made the painting depicting the Last Supper which is placed in the apse.\\n'"
      ]
     },
     "execution_count": 3,
     "metadata": {},
     "output_type": "execute_result"
    }
   ],
   "source": [
    "sample_file = '../../data/wk/20240405/%C3%89glise_Saint-Polycarpe.txt'\n",
    "\n",
    "with open(sample_file, 'r') as file:\n",
    "    text = file.read() \n",
    "\n",
    "text_without_links = re.sub('\\[\\d+\\]', '', text)\n",
    "text_without_links\n"
   ]
  },
  {
   "cell_type": "code",
   "execution_count": 4,
   "metadata": {},
   "outputs": [],
   "source": [
    "# Special character detection\n",
    "def get_special_characters(text: str) -> str:\n",
    "    pattern = r'[a-zA-z0-9.,!?/:;\\\"\\'\\s]'\n",
    "    return re.sub(pattern, '', text)"
   ]
  },
  {
   "cell_type": "code",
   "execution_count": 13,
   "metadata": {},
   "outputs": [],
   "source": [
    "def clean_text(text: str) -> str:\n",
    "  text = re.sub('\\[.*?\\]', '', text)\n",
    "  text = re.sub('–*', '', text)\n",
    "  text = re.sub('—', '', text)\n",
    "  text = re.sub('\\n', ' ', text)\n",
    "  text = re.sub('←→', '', text)\n",
    "  text = re.sub('\\s{2,}', ' ', text)\n",
    "  text = re.sub(' ', ' ', text)\n",
    "  return text"
   ]
  },
  {
   "cell_type": "code",
   "execution_count": 14,
   "metadata": {},
   "outputs": [
    {
     "data": {
      "text/plain": [
       "'The Église Saint-Polycarpe (Church of St. Polycarp) is a Roman Catholic church located in the 1st arrondissement of Lyon, on the slopes of La Croix-Rousse, between rue René Leynaud, rue Burdeau and passages Mermet and Thiaffait. It is the oldest church of the Oratory of Saint Philip Neri. The church, built by the Oratorians installed on the slopes, was completed in 1670, with the exception of the façade that was built in 1756 by architect Toussaint Loyer who also lengthened the nave. On 19 June 1791, the Oratory Church became a parish church and took the name of St. Polycarp, as a tribute to Polycarp of Smyrna, master of Saint Pothinus and Irenaeus, who were the first two bishops of Lyon. The heart of Pauline-Marie Jaricot, founder of the Society for the Propagation of the Faith, currently remains in a chapel of the church. The church has a famous organ, built by Augustine Zeiger in 1841. Adrien Rougier was the titular organist of the church from 1932 to 1945. The previous organ (built in 1722) had been in a significant state of disrepair for several years before François Mensongueé, a prominent French composer and organist of the church since 1826, commissioned it to be replaced in 1837. In 1982, the church was classified as monument historique. The church has a facade decorated with four Corinthian pilasters topped by a triangular pediment. Louis Janmot made the painting depicting the Last Supper which is placed in the apse. '"
      ]
     },
     "execution_count": 14,
     "metadata": {},
     "output_type": "execute_result"
    }
   ],
   "source": [
    "clean_text(text)"
   ]
  },
  {
   "cell_type": "code",
   "execution_count": 15,
   "metadata": {},
   "outputs": [
    {
     "data": {
      "text/plain": [
       "'É-()-éç-()çé'"
      ]
     },
     "execution_count": 15,
     "metadata": {},
     "output_type": "execute_result"
    }
   ],
   "source": [
    "get_special_characters(text)"
   ]
  },
  {
   "cell_type": "code",
   "execution_count": 16,
   "metadata": {},
   "outputs": [
    {
     "name": "stdout",
     "output_type": "stream",
     "text": [
      "The Église Saint-Polycarpe (Church of St. Polycarp) is a Roman Catholic church located in the 1st arrondissement of Lyon, on the slopes of La Croix-Rousse, between rue René Leynaud, rue Burdeau and passages Mermet and Thiaffait. It is the oldest church of the Oratory of Saint Philip Neri.\n",
      "The church, built by the Oratorians installed on the slopes, was completed in 1670, with the exception of the façade that was built in 1756 by architect Toussaint Loyer[1] who also lengthened the nave.[2]\n",
      "On 19 June 1791, the Oratory Church became a parish church and took the name of St. Polycarp, as a tribute to Polycarp of Smyrna, master of Saint Pothinus and Irenaeus, who were the first two bishops of Lyon.\n",
      "The heart of Pauline-Marie Jaricot, founder of the Society for the Propagation of the Faith, currently remains in a chapel of the church.[3]\n",
      "The church has a famous organ, built by Augustine Zeiger in 1841.[4] Adrien Rougier was the titular organist of the church from 1932 to 1945. The previous organ (built in 1722) had been in a significant state of disrepair for several years before François Mensongueé, a prominent French composer and organist of the church since 1826, commissioned it to be replaced in 1837.\n",
      "In 1982, the church was classified as monument historique.[5]\n",
      "The church has a facade decorated with four Corinthian pilasters topped by a triangular pediment. Louis Janmot made the painting depicting the Last Supper which is placed in the apse.[2]\n",
      "\n"
     ]
    },
    {
     "name": "stderr",
     "output_type": "stream",
     "text": [
      "[nltk_data] Downloading package punkt to /home/pacotoh/nltk_data...\n",
      "[nltk_data]   Package punkt is already up-to-date!\n"
     ]
    },
    {
     "data": {
      "text/plain": [
       "['The Église Saint-Polycarpe (Church of St. Polycarp) is a Roman Catholic church located in the 1st arrondissement of Lyon, on the slopes of La Croix-Rousse, between rue René Leynaud, rue Burdeau and passages Mermet and Thiaffait.',\n",
       " 'It is the oldest church of the Oratory of Saint Philip Neri.',\n",
       " 'The church, built by the Oratorians installed on the slopes, was completed in 1670, with the exception of the façade that was built in 1756 by architect Toussaint Loyer who also lengthened the nave.',\n",
       " 'On 19 June 1791, the Oratory Church became a parish church and took the name of St. Polycarp, as a tribute to Polycarp of Smyrna, master of Saint Pothinus and Irenaeus, who were the first two bishops of Lyon.',\n",
       " 'The heart of Pauline-Marie Jaricot, founder of the Society for the Propagation of the Faith, currently remains in a chapel of the church.',\n",
       " 'The church has a famous organ, built by Augustine Zeiger in 1841.',\n",
       " 'Adrien Rougier was the titular organist of the church from 1932 to 1945.',\n",
       " 'The previous organ (built in 1722) had been in a significant state of disrepair for several years before François Mensongueé, a prominent French composer and organist of the church since 1826, commissioned it to be replaced in 1837.',\n",
       " 'In 1982, the church was classified as monument historique.',\n",
       " 'The church has a facade decorated with four Corinthian pilasters topped by a triangular pediment.',\n",
       " 'Louis Janmot made the painting depicting the Last Supper which is placed in the apse.']"
      ]
     },
     "execution_count": 16,
     "metadata": {},
     "output_type": "execute_result"
    }
   ],
   "source": [
    "import nltk\n",
    "nltk.download('punkt')\n",
    "\n",
    "print(text)\n",
    "sentences = nltk.sent_tokenize(clean_text(text))\n",
    "sentences"
   ]
  }
 ],
 "metadata": {
  "kernelspec": {
   "display_name": "Python 3",
   "language": "python",
   "name": "python3"
  },
  "language_info": {
   "codemirror_mode": {
    "name": "ipython",
    "version": 3
   },
   "file_extension": ".py",
   "mimetype": "text/x-python",
   "name": "python",
   "nbconvert_exporter": "python",
   "pygments_lexer": "ipython3",
   "version": "3.11.8"
  }
 },
 "nbformat": 4,
 "nbformat_minor": 2
}
